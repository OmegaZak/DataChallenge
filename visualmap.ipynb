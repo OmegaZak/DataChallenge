{
 "metadata": {
  "language_info": {
   "codemirror_mode": {
    "name": "ipython",
    "version": 3
   },
   "file_extension": ".py",
   "mimetype": "text/x-python",
   "name": "python",
   "nbconvert_exporter": "python",
   "pygments_lexer": "ipython3",
   "version": "3.6.3-final"
  },
  "orig_nbformat": 2,
  "kernelspec": {
   "name": "python3",
   "display_name": "Python 3.6.3 64-bit ('zak_env': conda)",
   "metadata": {
    "interpreter": {
     "hash": "68127c694e4dd16e3463cda46ac85d190277d2b37e78547432322dbb4c4b5881"
    }
   }
  }
 },
 "nbformat": 4,
 "nbformat_minor": 2,
 "cells": [
  {
   "cell_type": "code",
   "execution_count": 10,
   "metadata": {},
   "outputs": [
    {
     "output_type": "error",
     "ename": "ValueError",
     "evalue": "Custom tiles must have an attribution.",
     "traceback": [
      "\u001b[1;31m---------------------------------------------------------------------------\u001b[0m",
      "\u001b[1;31mValueError\u001b[0m                                Traceback (most recent call last)",
      "\u001b[1;32m<ipython-input-10-6f451a2dd9eb>\u001b[0m in \u001b[0;36m<module>\u001b[1;34m\u001b[0m\n\u001b[0;32m     16\u001b[0m map = folium.Map(location = Albert1,\n\u001b[0;32m     17\u001b[0m                  \u001b[0mzoom_start\u001b[0m \u001b[1;33m=\u001b[0m \u001b[1;36m12\u001b[0m\u001b[1;33m,\u001b[0m\u001b[1;33m\u001b[0m\u001b[0m\n\u001b[1;32m---> 18\u001b[1;33m                  tiles = \"Bike traffic\")\n\u001b[0m\u001b[0;32m     19\u001b[0m \u001b[1;31m#marker_cluster = MarkerCluster(locations=[lat, lon]).add_to(map)\u001b[0m\u001b[1;33m\u001b[0m\u001b[1;33m\u001b[0m\u001b[0m\n\u001b[0;32m     20\u001b[0m \u001b[1;31m# Plot markers\u001b[0m\u001b[1;33m\u001b[0m\u001b[1;33m\u001b[0m\u001b[0m\n",
      "\u001b[1;32m~\\Anaconda3\\envs\\zak_env\\lib\\site-packages\\folium\\folium.py\u001b[0m in \u001b[0;36m__init__\u001b[1;34m(self, location, width, height, left, top, position, tiles, attr, min_zoom, max_zoom, zoom_start, min_lat, max_lat, min_lon, max_lon, max_bounds, crs, control_scale, prefer_canvas, no_touch, disable_3d, png_enabled, zoom_control, **kwargs)\u001b[0m\n\u001b[0;32m    287\u001b[0m         \u001b[1;32mif\u001b[0m \u001b[0mtiles\u001b[0m\u001b[1;33m:\u001b[0m\u001b[1;33m\u001b[0m\u001b[0m\n\u001b[0;32m    288\u001b[0m             tile_layer = TileLayer(tiles=tiles, attr=attr,\n\u001b[1;32m--> 289\u001b[1;33m                                    min_zoom=min_zoom, max_zoom=max_zoom)\n\u001b[0m\u001b[0;32m    290\u001b[0m             \u001b[0mself\u001b[0m\u001b[1;33m.\u001b[0m\u001b[0madd_child\u001b[0m\u001b[1;33m(\u001b[0m\u001b[0mtile_layer\u001b[0m\u001b[1;33m,\u001b[0m \u001b[0mname\u001b[0m\u001b[1;33m=\u001b[0m\u001b[0mtile_layer\u001b[0m\u001b[1;33m.\u001b[0m\u001b[0mtile_name\u001b[0m\u001b[1;33m)\u001b[0m\u001b[1;33m\u001b[0m\u001b[0m\n\u001b[0;32m    291\u001b[0m \u001b[1;33m\u001b[0m\u001b[0m\n",
      "\u001b[1;32m~\\Anaconda3\\envs\\zak_env\\lib\\site-packages\\folium\\raster_layers.py\u001b[0m in \u001b[0;36m__init__\u001b[1;34m(self, tiles, min_zoom, max_zoom, max_native_zoom, attr, detect_retina, name, overlay, control, show, no_wrap, subdomains, tms, opacity, **kwargs)\u001b[0m\n\u001b[0;32m    109\u001b[0m             \u001b[0mself\u001b[0m\u001b[1;33m.\u001b[0m\u001b[0mtiles\u001b[0m \u001b[1;33m=\u001b[0m \u001b[0mtiles\u001b[0m\u001b[1;33m\u001b[0m\u001b[0m\n\u001b[0;32m    110\u001b[0m             \u001b[1;32mif\u001b[0m \u001b[1;32mnot\u001b[0m \u001b[0mattr\u001b[0m\u001b[1;33m:\u001b[0m\u001b[1;33m\u001b[0m\u001b[0m\n\u001b[1;32m--> 111\u001b[1;33m                 \u001b[1;32mraise\u001b[0m \u001b[0mValueError\u001b[0m\u001b[1;33m(\u001b[0m\u001b[1;34m'Custom tiles must have an attribution.'\u001b[0m\u001b[1;33m)\u001b[0m\u001b[1;33m\u001b[0m\u001b[0m\n\u001b[0m\u001b[0;32m    112\u001b[0m \u001b[1;33m\u001b[0m\u001b[0m\n\u001b[0;32m    113\u001b[0m         self.options = parse_options(\n",
      "\u001b[1;31mValueError\u001b[0m: Custom tiles must have an attribution."
     ]
    }
   ],
   "source": [
    "import folium\n",
    "\n",
    "# Change colours\n",
    "\n",
    "def color_change(c):\n",
    "    if(c < 15):\n",
    "        return('red')\n",
    "    elif(15 <= c < 30):\n",
    "        return('orange')\n",
    "    else:\n",
    "        return('green')\n",
    "\n",
    "# Create base map\n",
    "\n",
    "Albert1 = [3.8336, 43.61465]\n",
    "map = folium.Map(location = Albert1,\n",
    "                 zoom_start = 12, \n",
    "                 tiles = \"Bike traffic\")\n",
    "#marker_cluster = MarkerCluster(locations=[lat, lon]).add_to(map)\n",
    "# Plot markers\n",
    "for _lat, _lon, _cap, _name in zip(lat, lon, cap, name):\n",
    "    folium.CircleMarker(location = [_lat, _lon], \n",
    "                        radius = 9, \n",
    "                        popup = \"(\"+str(_cap)+\") \"+_name, \n",
    "                        fill_color = color_change(_cap), \n",
    "                        color = \"gray\", \n",
    "                        fill_opacity = 0.9).add_to(marker_cluster)"
   ]
  },
  {
   "cell_type": "code",
   "execution_count": 39,
   "metadata": {},
   "outputs": [
    {
     "output_type": "error",
     "ename": "IndentationError",
     "evalue": "unexpected indent (<ipython-input-39-4d11fbb731ff>, line 6)",
     "traceback": [
      "\u001b[1;36m  File \u001b[1;32m\"<ipython-input-39-4d11fbb731ff>\"\u001b[1;36m, line \u001b[1;32m6\u001b[0m\n\u001b[1;33m    data[1:20] = cnt_departure\u001b[0m\n\u001b[1;37m    ^\u001b[0m\n\u001b[1;31mIndentationError\u001b[0m\u001b[1;31m:\u001b[0m unexpected indent\n"
     ]
    }
   ],
   "source": [
    "def DensityMap(stations, cnt_departure, cnt_arrival):\n",
    "    \n",
    "    Albert1 = [3.8336, 43.61465]\n",
    "    map = folium.Map(location = Albert1, zoom_start = 12, tiles = \"CartoDB dark_matter\")\n",
    "  \n",
    "     data[1:20] = cnt_departure\n",
    "     data[21:40] = cnt_arrival\n",
    "    \n",
    "    for index, row in stations.iterrows():\n",
    "        net_departure = row['Total Departure'] - row['Total Arrival']\n",
    "        _radius = np.abs(net_departure) \n",
    "    \n",
    "        if np.isnan(_radius):\n",
    "            _radius = 0\n",
    "    \n",
    "        if net_departure > 0:\n",
    "            _color= '#E80018' # target red\n",
    "    \n",
    "        else:\n",
    "            _color= '#81D8D0' # tiffany blue\n",
    "  \n",
    "    lat, lon = row['lat'], row['lon']\n",
    "    _popup = '('+str(row['capacity'])+'/'+str(int(_radius))+') '+row['station_name']\n",
    "  \n",
    "    folium.CircleMarker(location = [lat,lon], \n",
    "                        radius = _radius, \n",
    "                        popup = _popup, \n",
    "                        color = _color, \n",
    "                        fill_opacity = 0.5).add_to(map)\n",
    "                        \n",
    "    return map"
   ]
  },
  {
   "cell_type": "code",
   "execution_count": 42,
   "metadata": {},
   "outputs": [
    {
     "output_type": "execute_result",
     "data": {
      "text/plain": [
       "Time\n",
       "2020-03-12 11:05:00     109.0\n",
       "2020-03-12 14:30:00     441.0\n",
       "2020-03-13 10:02:00     385.0\n",
       "2020-03-13 14:15:00     769.0\n",
       "2020-03-13 18:21:00    1286.0\n",
       "                        ...  \n",
       "2021-03-07 12:20:00     233.0\n",
       "2021-03-07 12:58:00     324.0\n",
       "2021-03-07 14:45:00     406.0\n",
       "2021-03-07 18:15:00     616.0\n",
       "2021-03-08 10:19:00     414.0\n",
       "Name: TodayTotal, Length: 1373, dtype: float64"
      ]
     },
     "metadata": {},
     "execution_count": 42
    }
   ],
   "source": [
    "import pandas as pd\n",
    "import numpy as np\n",
    "\n",
    "df = pd.read_csv('velo.csv')\n",
    "df = df[['Date', 'Heure / Time', 'Vélos depuis le 1er janvier / Grand total', \"Vélos ce jour / Today's total\"]]\n",
    "df.rename(columns = {'Heure / Time': 'Time', 'Vélos depuis le 1er janvier / Grand total' : 'Total', \"Vélos ce jour / Today's total\" : \"TodayTotal\"}, inplace = True)\n",
    "df.drop(0,0,inplace=True)\n",
    "df.drop(1,0,inplace=True)\n",
    "df.sort_values('Date',ascending= True)\n",
    "df['Time']=df['Time'].replace('', np.nan)\n",
    "df.dropna(subset=['Time'], inplace=True)\n",
    "dfdatetime = df['Date'] +' '+ df['Time']\n",
    "time_improved = pd.to_datetime(dfdatetime, format = '%d/%m/%Y %H:%M:%S')\n",
    "df['Time'] = time_improved\n",
    "df.set_index('Time',inplace=True)\n",
    "# remove useles columns\n",
    "del df['Date']\n",
    "index_with_nan = df.index[df.isnull().any(axis=1)]\n",
    "df.drop(index_with_nan,0, inplace=True)\n",
    "data = df[\"TodayTotal\"]\n",
    "df.TodayTotal\n",
    "\n"
   ]
  },
  {
   "cell_type": "code",
   "execution_count": 33,
   "metadata": {},
   "outputs": [
    {
     "output_type": "error",
     "ename": "SyntaxError",
     "evalue": "invalid syntax (<ipython-input-33-01b4695d23ad>, line 9)",
     "traceback": [
      "\u001b[1;36m  File \u001b[1;32m\"<ipython-input-33-01b4695d23ad>\"\u001b[1;36m, line \u001b[1;32m9\u001b[0m\n\u001b[1;33m    df_1 = data[[-200:] == ts]\u001b[0m\n\u001b[1;37m                     ^\u001b[0m\n\u001b[1;31mSyntaxError\u001b[0m\u001b[1;31m:\u001b[0m invalid syntax\n"
     ]
    }
   ],
   "source": [
    "\n",
    "# Select peak hours\n",
    "TimeSlice = [25,53] # morning and evening\n",
    "keyword = ['map_morning', 'map_evening']\n",
    "\n",
    "\n",
    "\n",
    "# Journeys depart between 0820 and 0859, and between 1740 and 1819\n",
    "for ts, kw in zip(TimeSlice, keyword):\n",
    "    df_1 = data[[-200:] == ts]\n",
    "    df_2 = data[[-200:] == (ts+1)]\n",
    "    df_target = df_1.append(df_2)\n",
    "    cnt_departure = df_target.groupby(\"id_start\").count().iloc[:,0]\n",
    "    cnt_arrival = df_target.groupby(\"id_end\").count().iloc[:,0]\n",
    "    vars()[kw] = DensityMap(stations, cnt_departure, cnt_arrival)"
   ]
  },
  {
   "cell_type": "code",
   "execution_count": null,
   "metadata": {},
   "outputs": [],
   "source": []
  }
 ]
}